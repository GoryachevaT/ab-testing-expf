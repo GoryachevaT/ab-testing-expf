{
 "cells": [
  {
   "cell_type": "markdown",
   "metadata": {},
   "source": [
    "## Тест Шапиро-Уилка используется для выборки из менее, чем 5000 наблюдений\n",
    "\n",
    "H0: x взята из генеральной совокупности с нормальным распределением\n",
    "\n",
    "H1: x взята из генеральной совокупности с другим распределением"
   ]
  },
  {
   "cell_type": "code",
   "execution_count": 24,
   "metadata": {},
   "outputs": [],
   "source": [
    "import numpy as np\n",
    "from scipy.stats import norm, t, kstest, shapiro\n",
    "import statsmodels.api as sm\n",
    "from matplotlib import pyplot as plt"
   ]
  },
  {
   "cell_type": "code",
   "execution_count": 25,
   "metadata": {
    "scrolled": true
   },
   "outputs": [],
   "source": [
    "np.random.seed(17)"
   ]
  },
  {
   "cell_type": "code",
   "execution_count": 26,
   "metadata": {},
   "outputs": [],
   "source": [
    "# помимо нормального распределения создадим выборку распределения Стьюдента\n",
    "# с пятью степенями свободы. Напомним, что по форме они очень сильно похожи\n",
    "x = norm.rvs(size = 250)\n",
    "y = t.rvs(size = 250, df = 5)"
   ]
  },
  {
   "cell_type": "code",
   "execution_count": 27,
   "metadata": {},
   "outputs": [
    {
     "name": "stdout",
     "output_type": "stream",
     "text": [
      "KstestResult(statistic=0.057424163162479946, pvalue=0.3702169552013745)\n",
      "KstestResult(statistic=0.054751982840907654, pvalue=0.43087978272498656)\n"
     ]
    }
   ],
   "source": [
    "# Проверим принадлежность выборок к нормальному распределению\n",
    "print(kstest(x, \"norm\"))\n",
    "print(kstest(y, \"norm\"))"
   ]
  },
  {
   "cell_type": "markdown",
   "metadata": {},
   "source": [
    "Как можно заметить, тест Шапиро отвергает нулевую гипотезу выборки *y* в то время, как тест Колмогорова-Смирнова говорит об обратном с *p-value* = 0.43"
   ]
  },
  {
   "cell_type": "code",
   "execution_count": 30,
   "metadata": {},
   "outputs": [
    {
     "name": "stdout",
     "output_type": "stream",
     "text": [
      "Shapiro-Wilk normality test for X\n",
      "W = 0.9963920712471008\n",
      "P-value = 0.8381169438362122\n"
     ]
    }
   ],
   "source": [
    "W, p_val = shapiro(x)\n",
    "print(\"Shapiro-Wilk normality test for X\")\n",
    "print(\"W =\", W)\n",
    "print(\"P-value =\", p_val)"
   ]
  },
  {
   "cell_type": "code",
   "execution_count": 31,
   "metadata": {},
   "outputs": [
    {
     "name": "stdout",
     "output_type": "stream",
     "text": [
      "Shapiro-Wilk normality test for Y\n",
      "W = 0.9189562797546387\n",
      "P-value = 2.0092326413756467e-10\n"
     ]
    }
   ],
   "source": [
    "W, p_val = shapiro(y)\n",
    "print(\"Shapiro-Wilk normality test for Y\")\n",
    "print(\"W =\", W)\n",
    "print(\"P-value =\", p_val)"
   ]
  },
  {
   "cell_type": "markdown",
   "metadata": {},
   "source": [
    "Можно визуально проверить работу тестов с помощью функции *qqplot*. Она построит график квантилей распределения по оси теоретического нормального распределения. Получиться должна прямая, идущая из левого нижнего угла в верхний правый"
   ]
  },
  {
   "cell_type": "code",
   "execution_count": 32,
   "metadata": {},
   "outputs": [
    {
     "data": {
      "image/png": "[encoded data removed]",
      "text/plain": [
       "<Figure size 432x288 with 1 Axes>"
      ]
     },
     "metadata": {
      "needs_background": "light"
     },
     "output_type": "display_data"
    }
   ],
   "source": [
    "fig = sm.qqplot(x, color=\"green\")\n",
    "plt.title(\"Normal Q-Q Plot\")\n",
    "plt.show()"
   ]
  },
  {
   "cell_type": "code",
   "execution_count": 33,
   "metadata": {},
   "outputs": [
    {
     "data": {
      "image/png": "[encoded data removed]",
      "text/plain": [
       "<Figure size 432x288 with 1 Axes>"
      ]
     },
     "metadata": {
      "needs_background": "light"
     },
     "output_type": "display_data"
    }
   ],
   "source": [
    "fig = sm.qqplot(y, color=\"green\")\n",
    "plt.title(\"Normal Q-Q Plot\")\n",
    "plt.show()"
   ]
  },
  {
   "cell_type": "code",
   "execution_count": null,
   "metadata": {},
   "outputs": [],
   "source": []
  }
 ],
 "metadata": {
  "kernelspec": {
   "display_name": "Python 3",
   "language": "python",
   "name": "python3"
  },
  "language_info": {
   "codemirror_mode": {
    "name": "ipython",
    "version": 3
   },
   "file_extension": ".py",
   "mimetype": "text/x-python",
   "name": "python",
   "nbconvert_exporter": "python",
   "pygments_lexer": "ipython3",
   "version": "3.7.6"
  }
 },
 "nbformat": 4,
 "nbformat_minor": 4
}
