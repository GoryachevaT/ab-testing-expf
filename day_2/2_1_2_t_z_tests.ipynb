{
 "cells": [
  {
   "cell_type": "code",
   "execution_count": 143,
   "metadata": {},
   "outputs": [],
   "source": [
    "import numpy as np\n",
    "from scipy.stats import norm, uniform\n",
    "import statsmodels.api as sm"
   ]
  },
  {
   "cell_type": "markdown",
   "metadata": {},
   "source": [
    "## T-test для оценки разницы средних в двух выборках\n",
    "H0: мат. ожидание выборки x равняется мат. ожиданию выборки y \n",
    "\n",
    "Альтернативная гипотеза варьируется (больше, меньше, two-tailed)\n",
    "\n",
    "Дисперсии выборок заранее известны и равны"
   ]
  },
  {
   "cell_type": "code",
   "execution_count": 145,
   "metadata": {},
   "outputs": [],
   "source": [
    "std = 1\n",
    "n = 100"
   ]
  },
  {
   "cell_type": "code",
   "execution_count": 146,
   "metadata": {},
   "outputs": [],
   "source": [
    "min_ = -0.5\n",
    "max_ = 0.5\n",
    "mu_x = uniform.rvs(size=1, loc=min_, scale=max_-min_) \n",
    "mu_y = uniform.rvs(size=1, loc=min_, scale=max_-min_) \n",
    "x = norm.rvs(size = n, loc = mu_x, scale = std)\n",
    "y = norm.rvs(size = n, loc = mu_y, scale = std)"
   ]
  },
  {
   "cell_type": "code",
   "execution_count": 147,
   "metadata": {},
   "outputs": [
    {
     "data": {
      "text/plain": [
       "(array([-0.12545988]), array([0.45071431]))"
      ]
     },
     "execution_count": 147,
     "metadata": {},
     "output_type": "execute_result"
    }
   ],
   "source": [
    "mu_x, mu_y"
   ]
  },
  {
   "cell_type": "code",
   "execution_count": 148,
   "metadata": {},
   "outputs": [
    {
     "name": "stdout",
     "output_type": "stream",
     "text": [
      "Two Sample t-test\n",
      "t = -5.717700441584866\n",
      "p-value = 3.932612870603071e-08\n",
      "df =  198.0\n"
     ]
    }
   ],
   "source": [
    "# в функции ttest_ind() по умолчанию дисперсии равны\n",
    "\n",
    "res = sm.stats.ttest_ind(x, y)\n",
    "print(\"Two Sample t-test\")\n",
    "print(\"t =\", res[0])\n",
    "print(\"p-value =\", res[1])\n",
    "print(\"df = \", res[2])"
   ]
  },
  {
   "cell_type": "markdown",
   "metadata": {},
   "source": [
    "## T-test для оценки разницы средних в двух выборках\n",
    "Дисперсии выборок неизвестны (модификация Уэлша)"
   ]
  },
  {
   "cell_type": "code",
   "execution_count": 149,
   "metadata": {},
   "outputs": [],
   "source": [
    "np.random.seed(17)"
   ]
  },
  {
   "cell_type": "code",
   "execution_count": 150,
   "metadata": {},
   "outputs": [],
   "source": [
    "std_x = uniform.rvs(size=1, loc=0, scale=3) \n",
    "std_y = uniform.rvs(size=1, loc=0, scale=3) "
   ]
  },
  {
   "cell_type": "code",
   "execution_count": 151,
   "metadata": {},
   "outputs": [
    {
     "data": {
      "text/plain": [
       "array([0.88399501])"
      ]
     },
     "execution_count": 151,
     "metadata": {},
     "output_type": "execute_result"
    }
   ],
   "source": [
    "std_x"
   ]
  },
  {
   "cell_type": "code",
   "execution_count": 152,
   "metadata": {},
   "outputs": [
    {
     "data": {
      "text/plain": [
       "array([1.59176027])"
      ]
     },
     "execution_count": 152,
     "metadata": {},
     "output_type": "execute_result"
    }
   ],
   "source": [
    "std_y"
   ]
  },
  {
   "cell_type": "code",
   "execution_count": 153,
   "metadata": {},
   "outputs": [],
   "source": [
    "n = 100\n",
    "min_ = -0.5\n",
    "max_ = 0.5\n",
    "mu_x = uniform.rvs(size=1, loc=min_, scale=max_-min_) \n",
    "mu_y = uniform.rvs(size=1, loc=min_, scale=max_-min_) \n",
    "x = norm.rvs(size = n, loc = mu_x, scale = std_x)\n",
    "y = norm.rvs(size = n, loc = mu_y, scale = std_y)"
   ]
  },
  {
   "cell_type": "code",
   "execution_count": 154,
   "metadata": {},
   "outputs": [
    {
     "name": "stdout",
     "output_type": "stream",
     "text": [
      "Two Sample t-test\n",
      "t = 0.9992076091946488\n",
      "p-value = 0.3189136938843909\n",
      "df =  198.0\n"
     ]
    }
   ],
   "source": [
    "# t-тест с одинаковыми дисперсиями\n",
    "# по-умолчанию usevar=\"pooled\" и означает одинаковые дисперсии\n",
    "# поэтому в явном виде писать не требуется\n",
    "res = sm.stats.ttest_ind(x, y, usevar=\"pooled\") \n",
    "\n",
    "print(\"Two Sample t-test\")\n",
    "print(\"t =\", res[0])\n",
    "print(\"p-value =\", res[1])\n",
    "print(\"df = \", res[2])"
   ]
  },
  {
   "cell_type": "markdown",
   "metadata": {},
   "source": [
    "Продемонстрируем разницу между обычным t-тестом и модификацией Уэлша"
   ]
  },
  {
   "cell_type": "code",
   "execution_count": 155,
   "metadata": {},
   "outputs": [
    {
     "name": "stdout",
     "output_type": "stream",
     "text": [
      "Two Sample t-test\n",
      "t = 0.9992076091946487\n",
      "p-value = 0.31913591304533245\n",
      "df =  167.44395195850868\n"
     ]
    }
   ],
   "source": [
    "# t-тест с разными дисперсиями\n",
    "res = sm.stats.ttest_ind(x, y, usevar=\"unequal\")\n",
    "print(\"Two Sample t-test\")\n",
    "print(\"t =\", res[0])\n",
    "print(\"p-value =\", res[1])\n",
    "print(\"df = \", res[2])"
   ]
  },
  {
   "cell_type": "markdown",
   "metadata": {},
   "source": [
    "Различия незначительны\n",
    "\n",
    "Но на малых количествах данных, если дисперсии неизвестны, лучше придерживаться двухвыборочной модификации Уэлша"
   ]
  },
  {
   "cell_type": "markdown",
   "metadata": {},
   "source": [
    "А теперь вспомним, что t.test можно использовать только на нормальном распределении\n",
    "\n",
    "В прошлом результате p.value = 0.8. Что если мы добавим пару выбросов? "
   ]
  },
  {
   "cell_type": "code",
   "execution_count": 156,
   "metadata": {},
   "outputs": [],
   "source": [
    "x = np.append(x,[10,50])"
   ]
  },
  {
   "cell_type": "markdown",
   "metadata": {},
   "source": [
    "Получим p-value в два раза меньше "
   ]
  },
  {
   "cell_type": "code",
   "execution_count": 157,
   "metadata": {},
   "outputs": [
    {
     "name": "stdout",
     "output_type": "stream",
     "text": [
      "Two Sample t-test\n",
      "p-value = 0.15100502632471677\n"
     ]
    }
   ],
   "source": [
    "res = sm.stats.ttest_ind(x, y)\n",
    "print(\"Two Sample t-test\")\n",
    "print(\"p-value =\", res[1])"
   ]
  },
  {
   "cell_type": "markdown",
   "metadata": {},
   "source": [
    "Мы все равно не можем отвергнуть нулевую гипотезу на 95% уровне значимости, но суть в том, что ttest весьма чувствителен к выбросам и про это нельзя забывать"
   ]
  },
  {
   "cell_type": "code",
   "execution_count": null,
   "metadata": {},
   "outputs": [],
   "source": []
  }
 ],
 "metadata": {
  "kernelspec": {
   "display_name": "Python 3",
   "language": "python",
   "name": "python3"
  },
  "language_info": {
   "codemirror_mode": {
    "name": "ipython",
    "version": 3
   },
   "file_extension": ".py",
   "mimetype": "text/x-python",
   "name": "python",
   "nbconvert_exporter": "python",
   "pygments_lexer": "ipython3",
   "version": "3.7.6"
  }
 },
 "nbformat": 4,
 "nbformat_minor": 4
}
