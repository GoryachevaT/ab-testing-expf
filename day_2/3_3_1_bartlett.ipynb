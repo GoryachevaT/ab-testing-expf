{
 "cells": [
  {
   "cell_type": "markdown",
   "metadata": {},
   "source": [
    "## Проверка равенства дисперсий тестом Бартлетта \n",
    "\n",
    "Тест Бартлетта используется для двух или более групп, имеющих нормальное распределение\n",
    "\n",
    "H0: std_1 = std_2 = ... = std_k\n",
    "\n",
    "H1: хотя бы в одной группе дисперсия не равна остальным "
   ]
  },
  {
   "cell_type": "code",
   "execution_count": 28,
   "metadata": {},
   "outputs": [],
   "source": [
    "from scipy.stats import norm, bartlett\n",
    "import pandas as pd\n",
    "import numpy as np"
   ]
  },
  {
   "cell_type": "code",
   "execution_count": 29,
   "metadata": {},
   "outputs": [],
   "source": [
    "np.random.seed(17)"
   ]
  },
  {
   "cell_type": "code",
   "execution_count": 30,
   "metadata": {},
   "outputs": [],
   "source": [
    "std_x = 1\n",
    "std_y = 1.57\n",
    "std_z = 1.71\n",
    "\n",
    "mu_x = 1.17\n",
    "mu_y = 1.21\n",
    "mu_z = 3.51\n",
    "\n",
    "n = 250"
   ]
  },
  {
   "cell_type": "code",
   "execution_count": 31,
   "metadata": {},
   "outputs": [],
   "source": [
    "x = norm.rvs(size = n, loc = mu_x, scale = std_x)\n",
    "y = norm.rvs(size = n, loc = mu_y, scale = std_y)\n",
    "z = norm.rvs(size = n, loc = mu_z, scale = std_z)"
   ]
  },
  {
   "cell_type": "code",
   "execution_count": 32,
   "metadata": {},
   "outputs": [],
   "source": [
    "df = pd.DataFrame({\"A\": x, \"B\": y, \"C\":z})"
   ]
  },
  {
   "cell_type": "code",
   "execution_count": 33,
   "metadata": {},
   "outputs": [
    {
     "data": {
      "text/html": [
       "<div>\n",
       "<style scoped>\n",
       "    .dataframe tbody tr th:only-of-type {\n",
       "        vertical-align: middle;\n",
       "    }\n",
       "\n",
       "    .dataframe tbody tr th {\n",
       "        vertical-align: top;\n",
       "    }\n",
       "\n",
       "    .dataframe thead th {\n",
       "        text-align: right;\n",
       "    }\n",
       "</style>\n",
       "<table border=\"1\" class=\"dataframe\">\n",
       "  <thead>\n",
       "    <tr style=\"text-align: right;\">\n",
       "      <th></th>\n",
       "      <th>A</th>\n",
       "      <th>B</th>\n",
       "      <th>C</th>\n",
       "    </tr>\n",
       "  </thead>\n",
       "  <tbody>\n",
       "    <tr>\n",
       "      <th>0</th>\n",
       "      <td>1.446266</td>\n",
       "      <td>2.207199</td>\n",
       "      <td>2.850823</td>\n",
       "    </tr>\n",
       "    <tr>\n",
       "      <th>1</th>\n",
       "      <td>-0.684628</td>\n",
       "      <td>0.205358</td>\n",
       "      <td>7.334563</td>\n",
       "    </tr>\n",
       "    <tr>\n",
       "      <th>2</th>\n",
       "      <td>1.793901</td>\n",
       "      <td>3.722093</td>\n",
       "      <td>-0.628311</td>\n",
       "    </tr>\n",
       "    <tr>\n",
       "      <th>3</th>\n",
       "      <td>2.315311</td>\n",
       "      <td>0.063065</td>\n",
       "      <td>4.020217</td>\n",
       "    </tr>\n",
       "    <tr>\n",
       "      <th>4</th>\n",
       "      <td>2.207190</td>\n",
       "      <td>-0.375101</td>\n",
       "      <td>1.176420</td>\n",
       "    </tr>\n",
       "    <tr>\n",
       "      <th>...</th>\n",
       "      <td>...</td>\n",
       "      <td>...</td>\n",
       "      <td>...</td>\n",
       "    </tr>\n",
       "    <tr>\n",
       "      <th>245</th>\n",
       "      <td>0.411008</td>\n",
       "      <td>-0.227701</td>\n",
       "      <td>1.319165</td>\n",
       "    </tr>\n",
       "    <tr>\n",
       "      <th>246</th>\n",
       "      <td>1.399272</td>\n",
       "      <td>1.962965</td>\n",
       "      <td>5.981444</td>\n",
       "    </tr>\n",
       "    <tr>\n",
       "      <th>247</th>\n",
       "      <td>2.576834</td>\n",
       "      <td>2.628640</td>\n",
       "      <td>5.743843</td>\n",
       "    </tr>\n",
       "    <tr>\n",
       "      <th>248</th>\n",
       "      <td>0.100587</td>\n",
       "      <td>2.135234</td>\n",
       "      <td>1.140797</td>\n",
       "    </tr>\n",
       "    <tr>\n",
       "      <th>249</th>\n",
       "      <td>-0.049436</td>\n",
       "      <td>2.128560</td>\n",
       "      <td>4.523208</td>\n",
       "    </tr>\n",
       "  </tbody>\n",
       "</table>\n",
       "<p>250 rows × 3 columns</p>\n",
       "</div>"
      ],
      "text/plain": [
       "            A         B         C\n",
       "0    1.446266  2.207199  2.850823\n",
       "1   -0.684628  0.205358  7.334563\n",
       "2    1.793901  3.722093 -0.628311\n",
       "3    2.315311  0.063065  4.020217\n",
       "4    2.207190 -0.375101  1.176420\n",
       "..        ...       ...       ...\n",
       "245  0.411008 -0.227701  1.319165\n",
       "246  1.399272  1.962965  5.981444\n",
       "247  2.576834  2.628640  5.743843\n",
       "248  0.100587  2.135234  1.140797\n",
       "249 -0.049436  2.128560  4.523208\n",
       "\n",
       "[250 rows x 3 columns]"
      ]
     },
     "execution_count": 33,
     "metadata": {},
     "output_type": "execute_result"
    }
   ],
   "source": [
    "df"
   ]
  },
  {
   "cell_type": "code",
   "execution_count": 34,
   "metadata": {},
   "outputs": [
    {
     "data": {
      "text/plain": [
       "BartlettResult(statistic=78.2631822869507, pvalue=1.0124320811707914e-17)"
      ]
     },
     "execution_count": 34,
     "metadata": {},
     "output_type": "execute_result"
    }
   ],
   "source": [
    "bartlett(df.A, df.B, df.C)"
   ]
  },
  {
   "cell_type": "code",
   "execution_count": null,
   "metadata": {},
   "outputs": [],
   "source": []
  }
 ],
 "metadata": {
  "kernelspec": {
   "display_name": "Python 3",
   "language": "python",
   "name": "python3"
  },
  "language_info": {
   "codemirror_mode": {
    "name": "ipython",
    "version": 3
   },
   "file_extension": ".py",
   "mimetype": "text/x-python",
   "name": "python",
   "nbconvert_exporter": "python",
   "pygments_lexer": "ipython3",
   "version": "3.7.6"
  }
 },
 "nbformat": 4,
 "nbformat_minor": 4
}
