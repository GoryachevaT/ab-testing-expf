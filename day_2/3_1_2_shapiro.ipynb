{
 "cells": [
  {
   "cell_type": "markdown",
   "metadata": {},
   "source": [
    "## Проверка нормальности распределения тестом Шапиро-Уилка\n",
    "\n",
    "Тест Шапиро-Уилка используется для выборки из менее, чем 5000 наблюдений\n",
    "\n",
    "H0: x взята из генеральной совокупности с нормальным распределением\n",
    "\n",
    "H1: x взята из генеральной совокупности с другим распределением\n",
    "\n",
    "Тест Шапиро-Уилка имеет наибольшую статистическую мощность среди всего семейства критериев на определение нормальности распределения "
   ]
  },
  {
   "cell_type": "code",
   "execution_count": 29,
   "metadata": {},
   "outputs": [],
   "source": [
    "import numpy as np\n",
    "from scipy.stats import norm, shapiro"
   ]
  },
  {
   "cell_type": "code",
   "execution_count": 30,
   "metadata": {},
   "outputs": [],
   "source": [
    "np.random.seed(17)\n",
    "x = norm.rvs(size = 1500, loc = 0, scale = 1)"
   ]
  },
  {
   "cell_type": "code",
   "execution_count": 31,
   "metadata": {},
   "outputs": [
    {
     "data": {
      "text/plain": [
       "array([ 0.27626589, -1.85462808,  0.62390111, ...,  1.42019131,\n",
       "       -0.02464186, -0.35321641])"
      ]
     },
     "execution_count": 31,
     "metadata": {},
     "output_type": "execute_result"
    }
   ],
   "source": [
    "x"
   ]
  },
  {
   "cell_type": "code",
   "execution_count": 32,
   "metadata": {},
   "outputs": [
    {
     "name": "stdout",
     "output_type": "stream",
     "text": [
      "Shapiro-Wilk normality test\n",
      "W = 0.9986648559570312\n",
      "P-value = 0.3094750940799713\n"
     ]
    }
   ],
   "source": [
    "W, p_val = shapiro(x)\n",
    "print(\"Shapiro-Wilk normality test\")\n",
    "print(\"W =\", W)\n",
    "print(\"P-value =\", p_val)"
   ]
  },
  {
   "cell_type": "code",
   "execution_count": null,
   "metadata": {},
   "outputs": [],
   "source": []
  }
 ],
 "metadata": {
  "kernelspec": {
   "display_name": "Python 3",
   "language": "python",
   "name": "python3"
  },
  "language_info": {
   "codemirror_mode": {
    "name": "ipython",
    "version": 3
   },
   "file_extension": ".py",
   "mimetype": "text/x-python",
   "name": "python",
   "nbconvert_exporter": "python",
   "pygments_lexer": "ipython3",
   "version": "3.7.6"
  }
 },
 "nbformat": 4,
 "nbformat_minor": 4
}
