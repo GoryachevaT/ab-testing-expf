{
 "cells": [
  {
   "cell_type": "markdown",
   "metadata": {},
   "source": [
    "**Критерий Уилкоксона-Манна-Уитни** иногда называют **ранговым критерием Уилкоксона** или **U-тестом Манна-Уитни**, но на самом деле это все один тест\n",
    "\n",
    "Он используется для сравнения медиан распределения статистики двух независимых выборок в смысле линейного сдвига относительно центра симметрии\n",
    "\n",
    "Можно грубо обощить, что он работает в сравнении средних"
   ]
  },
  {
   "cell_type": "code",
   "execution_count": 1,
   "metadata": {},
   "outputs": [],
   "source": [
    "import random\n",
    "from scipy.stats import norm, binom, expon, wilcoxon\n",
    "import numpy as np\n",
    "import statsmodels.api as sm"
   ]
  },
  {
   "cell_type": "code",
   "execution_count": 2,
   "metadata": {},
   "outputs": [],
   "source": [
    "np.random.seed(42)"
   ]
  },
  {
   "cell_type": "code",
   "execution_count": 3,
   "metadata": {},
   "outputs": [],
   "source": [
    "x = norm.rvs(size = 500, loc = 0, scale = 1)\n",
    "y = norm.rvs(size = 500, loc = 1, scale = 1)"
   ]
  },
  {
   "cell_type": "code",
   "execution_count": 4,
   "metadata": {},
   "outputs": [
    {
     "data": {
      "text/plain": [
       "WilcoxonResult(statistic=19619.0, pvalue=2.1659176384525174e-40)"
      ]
     },
     "execution_count": 4,
     "metadata": {},
     "output_type": "execute_result"
    }
   ],
   "source": [
    "# обратим внимание, что при сгенерированной выборке из 500 наблюдений\n",
    "# разница в средних в 0.1 уже достаточна для того, чтобы получить близкий \n",
    "# к отвержению нулевой гипотезы результат\n",
    "wilcoxon(x, y)"
   ]
  },
  {
   "cell_type": "code",
   "execution_count": 5,
   "metadata": {},
   "outputs": [
    {
     "data": {
      "text/plain": [
       "WilcoxonResult(statistic=60022.0, pvalue=0.4206453130104407)"
      ]
     },
     "execution_count": 5,
     "metadata": {},
     "output_type": "execute_result"
    }
   ],
   "source": [
    "x = norm.rvs(size = 500, loc = 0, scale = 1)\n",
    "y = norm.rvs(size = 500, loc = 0, scale = 50)\n",
    "\n",
    "# А вот разницу в с.к.о. нормального распределения тест не распознает\n",
    "wilcoxon(x, y)"
   ]
  },
  {
   "cell_type": "code",
   "execution_count": 6,
   "metadata": {},
   "outputs": [
    {
     "name": "stdout",
     "output_type": "stream",
     "text": [
      "0.16666666666666666\n",
      "0.19733118364373312\n"
     ]
    }
   ],
   "source": [
    "# Проверим тест на разные распределения, для этого возьмем выборку с \n",
    "# биномиальным распределеним и экспоненциальным. Параметры подберем таким образом\n",
    "# что средние у них будут приблизительно схожи\n",
    "x = binom.rvs(size=300, n=1, p=0.18)\n",
    "y = expon.rvs(size=300, scale=0.2)\n",
    "print(np.mean(x))\n",
    "print(np.mean(y))"
   ]
  },
  {
   "cell_type": "code",
   "execution_count": 7,
   "metadata": {},
   "outputs": [
    {
     "data": {
      "text/plain": [
       "WilcoxonResult(statistic=13529.0, pvalue=1.791887908835471e-09)"
      ]
     },
     "execution_count": 7,
     "metadata": {},
     "output_type": "execute_result"
    }
   ],
   "source": [
    "# Что ожидаемо, тест Уилкоксона-Манна-Уитни показал разницу в выборках\n",
    "wilcoxon(x, y)"
   ]
  },
  {
   "cell_type": "code",
   "execution_count": 8,
   "metadata": {},
   "outputs": [
    {
     "name": "stdout",
     "output_type": "stream",
     "text": [
      "Two Sample t-test\n",
      "t = -1.2798445685951283\n",
      "p-value = 0.20109609056416852\n",
      "df =  598.0\n"
     ]
    }
   ],
   "source": [
    "# А вот тест Стьюдента не отвергнет гипотезу о равенстве средних\n",
    "# Поскольку мы не выполнили условие о нормальности распределений\n",
    "# доверять этим результатам не стоит (хотя средние у них и правда похожи)\n",
    "res = sm.stats.ttest_ind(x, y)\n",
    "print(\"Two Sample t-test\")\n",
    "print(\"t =\", res[0])\n",
    "print(\"p-value =\", res[1])\n",
    "print(\"df = \", res[2])"
   ]
  },
  {
   "cell_type": "code",
   "execution_count": null,
   "metadata": {},
   "outputs": [],
   "source": []
  }
 ],
 "metadata": {
  "kernelspec": {
   "display_name": "Python 3",
   "language": "python",
   "name": "python3"
  },
  "language_info": {
   "codemirror_mode": {
    "name": "ipython",
    "version": 3
   },
   "file_extension": ".py",
   "mimetype": "text/x-python",
   "name": "python",
   "nbconvert_exporter": "python",
   "pygments_lexer": "ipython3",
   "version": "3.7.6"
  }
 },
 "nbformat": 4,
 "nbformat_minor": 4
}
