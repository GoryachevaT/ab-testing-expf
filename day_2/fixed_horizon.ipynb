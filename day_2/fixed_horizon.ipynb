{
 "cells": [
  {
   "cell_type": "markdown",
   "metadata": {},
   "source": [
    "## Анализ необходимого количества наблюдений, размера эффекта и мощности критериев с помощью *statsmodels.stats.power* (согласно подходу Fixed Horizon)"
   ]
  },
  {
   "cell_type": "code",
   "execution_count": 11,
   "metadata": {},
   "outputs": [],
   "source": [
    "import math\n",
    "import numpy as np\n",
    "import statsmodels.stats.power as smp\n",
    "from tqdm.auto import tqdm\n",
    "import matplotlib.pyplot as plt\n",
    "import seaborn as sns\n",
    "\n",
    "plt.style.use('ggplot')"
   ]
  },
  {
   "cell_type": "code",
   "execution_count": 12,
   "metadata": {},
   "outputs": [],
   "source": [
    "# Критерий пропорций (нужен для кликов, конверсий)\n",
    "alpha = 0.05\n",
    "power = 0.9\n",
    "n = 450\n",
    "p_x = 0.5\n",
    "p_y = 0.6\n",
    "\n",
    "h = 2*math.asin(np.sqrt(p_x)) - 2*math.asin(np.sqrt(p_y))"
   ]
  },
  {
   "cell_type": "code",
   "execution_count": 13,
   "metadata": {},
   "outputs": [
    {
     "data": {
      "text/plain": [
       "-0.20135792079033066"
      ]
     },
     "execution_count": 13,
     "metadata": {},
     "output_type": "execute_result"
    }
   ],
   "source": [
    "h"
   ]
  },
  {
   "cell_type": "code",
   "execution_count": 14,
   "metadata": {},
   "outputs": [
    {
     "data": {
      "text/plain": [
       "0.8555200838742346"
      ]
     },
     "execution_count": 14,
     "metadata": {},
     "output_type": "execute_result"
    }
   ],
   "source": [
    "# Какая мощность критерия будет в выборке из n наблюдений, \n",
    "# при условии, что величина эффекта = h c уровнем значимости alpha\n",
    "\n",
    "power = smp.zt_ind_solve_power(effect_size=h, nobs1=n, alpha=alpha, alternative='two-sided')\n",
    "power"
   ]
  },
  {
   "cell_type": "code",
   "execution_count": 15,
   "metadata": {},
   "outputs": [
    {
     "data": {
      "text/plain": [
       "449.9999999951084"
      ]
     },
     "execution_count": 15,
     "metadata": {},
     "output_type": "execute_result"
    }
   ],
   "source": [
    "# Сколько наблюдений необходимо для заданного эффекта, чтобы\n",
    "# результаты двухвыборочного теста пропорций были с заданным уровнем значимости \n",
    "# и заданной мощностью критерий (1 - вероятность ошибки II-го рода)\n",
    "\n",
    "smp.zt_ind_solve_power(effect_size = h, alpha = alpha, power = power, alternative='two-sided')"
   ]
  },
  {
   "cell_type": "code",
   "execution_count": 16,
   "metadata": {},
   "outputs": [
    {
     "data": {
      "text/plain": [
       "0.20135582707747696"
      ]
     },
     "execution_count": 16,
     "metadata": {},
     "output_type": "execute_result"
    }
   ],
   "source": [
    "# Какова величина эффекта будет при рассчете теста, при заранее заданных\n",
    "# величинах альфа и величины мощности \n",
    "smp.zt_ind_solve_power(nobs1 = n, alpha = alpha, power = power)"
   ]
  },
  {
   "cell_type": "markdown",
   "metadata": {},
   "source": [
    "## t-Критерий Стьюдента (принцип такой же, какой и сверху)"
   ]
  },
  {
   "cell_type": "code",
   "execution_count": 17,
   "metadata": {},
   "outputs": [
    {
     "data": {
      "application/vnd.jupyter.widget-view+json": {
       "model_id": "017fb430144f47498412c6bf81e74fe5",
       "version_major": 2,
       "version_minor": 0
      },
      "text/plain": [
       "HBox(children=(FloatProgress(value=0.0, max=1950.0), HTML(value='')))"
      ]
     },
     "metadata": {},
     "output_type": "display_data"
    },
    {
     "name": "stdout",
     "output_type": "stream",
     "text": [
      "\n"
     ]
    }
   ],
   "source": [
    "effects = []\n",
    "sample_sizes = []\n",
    "\n",
    "for i in tqdm(range(50,2000)):\n",
    "    effects.append(smp.tt_ind_solve_power(nobs1 = i, alpha = alpha, power = power))\n",
    "    sample_sizes.append(i)"
   ]
  },
  {
   "cell_type": "code",
   "execution_count": 18,
   "metadata": {
    "scrolled": true
   },
   "outputs": [
    {
     "data": {
      "text/plain": [
       "[0.6100781117119797,\n",
       " 0.6039473708160531,\n",
       " 0.5979987726385927,\n",
       " 0.592217508992714,\n",
       " 0.5866052697062207,\n",
       " 0.5811494490351803,\n",
       " 0.5758429413270946,\n",
       " 0.5706790950542528,\n",
       " 0.5656516708182788,\n",
       " 0.5607548033983814]"
      ]
     },
     "execution_count": 18,
     "metadata": {},
     "output_type": "execute_result"
    }
   ],
   "source": [
    "effects[:10]"
   ]
  },
  {
   "cell_type": "code",
   "execution_count": 19,
   "metadata": {},
   "outputs": [
    {
     "data": {
      "text/plain": [
       "Text(0, 0.5, 'Effect Amount')"
      ]
     },
     "execution_count": 19,
     "metadata": {},
     "output_type": "execute_result"
    },
    {
     "data": {
      "image/png": "[encoded data removed]",
      "text/plain": [
       "<Figure size 432x288 with 1 Axes>"
      ]
     },
     "metadata": {},
     "output_type": "display_data"
    }
   ],
   "source": [
    "viz = sns.lineplot(x=sample_sizes, y=effects)\n",
    "viz.set_xlabel(\"Sample Size\")\n",
    "viz.set_ylabel(\"Effect Amount\")"
   ]
  },
  {
   "cell_type": "code",
   "execution_count": null,
   "metadata": {},
   "outputs": [],
   "source": []
  }
 ],
 "metadata": {
  "kernelspec": {
   "display_name": "Python 3",
   "language": "python",
   "name": "python3"
  },
  "language_info": {
   "codemirror_mode": {
    "name": "ipython",
    "version": 3
   },
   "file_extension": ".py",
   "mimetype": "text/x-python",
   "name": "python",
   "nbconvert_exporter": "python",
   "pygments_lexer": "ipython3",
   "version": "3.7.6"
  }
 },
 "nbformat": 4,
 "nbformat_minor": 4
}
