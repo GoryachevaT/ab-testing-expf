{
 "cells": [
  {
   "cell_type": "code",
   "execution_count": 7,
   "metadata": {},
   "outputs": [],
   "source": [
    "import pandas as pd\n",
    "import numpy as np\n",
    "from scipy.stats import norm\n",
    "\n",
    "from statsmodels.stats import weightstats as stests"
   ]
  },
  {
   "cell_type": "markdown",
   "metadata": {},
   "source": [
    "## Z-test для сравнения средних двух выборок\n",
    "\n",
    "Дисперсия берется выборочной оценкой, не лучший вариант, но тоже можно\n",
    "\n",
    "Уровень значимости alpha здесь отображает рамки доверительного интервала для оценки разности средних\n",
    "\n",
    "\n",
    "\n",
    "Объявим параметры: СКО, мат. ожидание и уровень значимости"
   ]
  },
  {
   "cell_type": "code",
   "execution_count": 3,
   "metadata": {},
   "outputs": [],
   "source": [
    "std = 1\n",
    "# alpha = 0.99\n",
    "mu_x = np.random.uniform(-1,1) \n",
    "mu_y = np.random.uniform(-1,1)"
   ]
  },
  {
   "cell_type": "markdown",
   "metadata": {},
   "source": [
    "Генерация данных "
   ]
  },
  {
   "cell_type": "code",
   "execution_count": 4,
   "metadata": {},
   "outputs": [],
   "source": [
    "x = norm.rvs(size = 100, loc = mu_x, scale = std)\n",
    "y = norm.rvs(size = 100, loc = mu_y, scale = std)"
   ]
  },
  {
   "cell_type": "markdown",
   "metadata": {},
   "source": [
    "Теперь можно загнать все в критерий и получить z-статистику, p-value и интервал для разницы между средними"
   ]
  },
  {
   "cell_type": "code",
   "execution_count": 5,
   "metadata": {},
   "outputs": [
    {
     "name": "stdout",
     "output_type": "stream",
     "text": [
      "Two-sample z-Test\n",
      "Z-statistic: -0.21469834731558798\n",
      "P-value: 0.830002511185721\n"
     ]
    }
   ],
   "source": [
    "res = stests.ztest(x, y, alternative='two-sided', value=mu_x-mu_y, ddof=1.0)\n",
    "print(\"Two-sample z-Test\")\n",
    "print(\"Z-statistic:\", res[0])\n",
    "print(\"P-value:\", res[1])"
   ]
  },
  {
   "cell_type": "code",
   "execution_count": 6,
   "metadata": {},
   "outputs": [],
   "source": [
    "# интервал?"
   ]
  },
  {
   "cell_type": "code",
   "execution_count": null,
   "metadata": {},
   "outputs": [],
   "source": []
  }
 ],
 "metadata": {
  "kernelspec": {
   "display_name": "Python 3",
   "language": "python",
   "name": "python3"
  },
  "language_info": {
   "codemirror_mode": {
    "name": "ipython",
    "version": 3
   },
   "file_extension": ".py",
   "mimetype": "text/x-python",
   "name": "python",
   "nbconvert_exporter": "python",
   "pygments_lexer": "ipython3",
   "version": "3.7.6"
  }
 },
 "nbformat": 4,
 "nbformat_minor": 4
}
