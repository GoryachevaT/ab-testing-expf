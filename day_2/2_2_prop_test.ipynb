{
 "cells": [
  {
   "cell_type": "code",
   "execution_count": 41,
   "metadata": {},
   "outputs": [],
   "source": [
    "import random\n",
    "import numpy as np\n",
    "from scipy.stats import uniform, binom, norm\n",
    "import statsmodels.stats as sm"
   ]
  },
  {
   "cell_type": "markdown",
   "metadata": {},
   "source": [
    "Z-test для двух выборок подразумевает биномиальное распределение и примерно одинаковое количество наблюдений в выборках "
   ]
  },
  {
   "cell_type": "code",
   "execution_count": 42,
   "metadata": {},
   "outputs": [],
   "source": [
    "np.random.seed(42)\n",
    "random.seed(42)"
   ]
  },
  {
   "cell_type": "code",
   "execution_count": 43,
   "metadata": {},
   "outputs": [],
   "source": [
    "# для примера, зададим количество элементов в выборках 500±10 \n",
    "\n",
    "n = random.choice([i for i in range(490,510+1)])\n",
    "m = random.choice([i for i in range(490,510+1)])"
   ]
  },
  {
   "cell_type": "code",
   "execution_count": 44,
   "metadata": {},
   "outputs": [],
   "source": [
    "# Нагенерим параметр распределения (вероятность успеха) \n",
    "\n",
    "p_x = uniform.rvs(size=1, loc=0, scale=1) \n",
    "p_y = uniform.rvs(size=1, loc=0, scale=1) "
   ]
  },
  {
   "cell_type": "code",
   "execution_count": 45,
   "metadata": {},
   "outputs": [],
   "source": [
    "# создадим две выборки размером n и m с параметрами p_x и p_y\n",
    "\n",
    "x = binom.rvs(n=1, p=p_x, size=n)\n",
    "y = binom.rvs(n=1, p=p_y, size=m)"
   ]
  },
  {
   "cell_type": "code",
   "execution_count": 46,
   "metadata": {},
   "outputs": [],
   "source": [
    "# вычислим выборочные оценки, необходимые для того, чтобы посчитать критерий\n",
    "\n",
    "p_x_est = sum(x)/n\n",
    "p_y_est = sum(y)/m\n",
    "P = (p_x_est*n + p_y_est*m)/(n + m)\n",
    "Z = (p_x_est - p_y_est)/np.sqrt(P*(1 - P)*(1/n + 1/m))"
   ]
  },
  {
   "cell_type": "code",
   "execution_count": 47,
   "metadata": {},
   "outputs": [
    {
     "data": {
      "text/plain": [
       "0.0"
      ]
     },
     "execution_count": 47,
     "metadata": {},
     "output_type": "execute_result"
    }
   ],
   "source": [
    "p_value = (1 - norm.cdf(abs(Z)))*2\n",
    "p_value"
   ]
  },
  {
   "cell_type": "code",
   "execution_count": 48,
   "metadata": {},
   "outputs": [
    {
     "name": "stdout",
     "output_type": "stream",
     "text": [
      "2-sample test for equality of proportions\n",
      "test statistic = -19.48336822232804\n",
      "p-value = 1.5194666922803876e-84\n"
     ]
    }
   ],
   "source": [
    "# Проверим результаты с помощью встроенной функции prop.test\n",
    "# p.value будет таким же\n",
    "\n",
    "stat, pval = sm.proportion.proportions_ztest([sum(x), sum(y)], \n",
    "                                             [len(x), len(y)]) \n",
    "print(\"2-sample test for equality of proportions\")\n",
    "print(\"test statistic =\", stat)\n",
    "print(\"p-value =\", pval)"
   ]
  },
  {
   "cell_type": "code",
   "execution_count": null,
   "metadata": {},
   "outputs": [],
   "source": []
  }
 ],
 "metadata": {
  "kernelspec": {
   "display_name": "Python 3",
   "language": "python",
   "name": "python3"
  },
  "language_info": {
   "codemirror_mode": {
    "name": "ipython",
    "version": 3
   },
   "file_extension": ".py",
   "mimetype": "text/x-python",
   "name": "python",
   "nbconvert_exporter": "python",
   "pygments_lexer": "ipython3",
   "version": "3.7.6"
  }
 },
 "nbformat": 4,
 "nbformat_minor": 4
}
