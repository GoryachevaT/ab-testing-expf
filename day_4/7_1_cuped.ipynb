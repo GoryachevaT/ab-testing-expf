{
 "cells": [
  {
   "cell_type": "code",
   "execution_count": 61,
   "metadata": {},
   "outputs": [],
   "source": [
    "import pandas as pd \n",
    "import numpy as np\n",
    "import os "
   ]
  },
  {
   "cell_type": "code",
   "execution_count": 99,
   "metadata": {},
   "outputs": [],
   "source": [
    "# Функция считает значение метрики cuped\n",
    "# covariate -- название столбца с ковариатом (метрика, коррелирующая с ключевой метрикой эксперимента)\n",
    "# metric -- название столбца с ключевой экспериментальной метрики \n",
    "\n",
    "def get_cuped(covariate, metric):\n",
    "    return metric - (covariate - covariate.mean()) * covariate.cov(metric) / covariate.var() "
   ]
  },
  {
   "cell_type": "code",
   "execution_count": 107,
   "metadata": {},
   "outputs": [],
   "source": [
    "df = pd.DataFrame(\n",
    "        dict(\n",
    "            y=(10, 7, 17, 3, 8), \n",
    "            x=(6, 4, 2, 0, 3),\n",
    "            test=('test', 'test', 'control', 'control', 'control')\n",
    "            )\n",
    "        )\n",
    "\n",
    "df['cuped'] = get_cuped(df['x'],df['y'])"
   ]
  },
  {
   "cell_type": "code",
   "execution_count": 109,
   "metadata": {},
   "outputs": [
    {
     "data": {
      "text/plain": [
       "(21.2, 19.990000000000002)"
      ]
     },
     "execution_count": 109,
     "metadata": {},
     "output_type": "execute_result"
    }
   ],
   "source": [
    "np.var(df['y']),np.var(df['cuped'])"
   ]
  },
  {
   "cell_type": "code",
   "execution_count": null,
   "metadata": {},
   "outputs": [],
   "source": []
  }
 ],
 "metadata": {
  "kernelspec": {
   "display_name": "Python 3",
   "language": "python",
   "name": "python3"
  },
  "language_info": {
   "codemirror_mode": {
    "name": "ipython",
    "version": 3
   },
   "file_extension": ".py",
   "mimetype": "text/x-python",
   "name": "python",
   "nbconvert_exporter": "python",
   "pygments_lexer": "ipython3",
   "version": "3.7.6"
  }
 },
 "nbformat": 4,
 "nbformat_minor": 2
}
