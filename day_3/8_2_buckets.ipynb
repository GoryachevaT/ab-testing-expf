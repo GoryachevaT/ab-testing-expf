{
 "cells": [
  {
   "cell_type": "code",
   "execution_count": null,
   "metadata": {},
   "outputs": [],
   "source": [
    "import numpy as np\n",
    "import scipy.stats as sts\n",
    "from scipy.stats import norm\n",
    "import pandas as pd\n",
    "import matplotlib.pyplot as plt\n",
    "\n",
    "plt.style.use('ggplot')\n",
    "\n",
    "from tqdm.auto import tqdm"
   ]
  },
  {
   "cell_type": "code",
   "execution_count": null,
   "metadata": {},
   "outputs": [],
   "source": [
    "# функция бутстрапа\n",
    "\n",
    "def get_bootstrap(\n",
    "    data_column_1, # числовые значения первой выборки\n",
    "    data_column_2, # числовые значения второй выборки\n",
    "    boot_it = 1000, # количество бутстрэп-подвыборок\n",
    "    statistic = np.mean, # интересующая нас статистика\n",
    "    bootstrap_conf_level = 0.95 # уровень значимости\n",
    "):\n",
    "    boot_data = []\n",
    "    for i in tqdm(range(boot_it)): # извлекаем подвыборки\n",
    "        samples_1 = data_column_1.sample(\n",
    "            len(data_column_1), # чтобы сохранить дисперсию, берем такой же размер выборки\n",
    "            replace = True # параметр возвращения\n",
    "        ).values\n",
    "        \n",
    "        samples_2 = data_column_2.sample(\n",
    "            len(data_column_2), \n",
    "            replace = True\n",
    "        ).values\n",
    "        \n",
    "        boot_data.append(statistic(samples_1-samples_2)) # mean() - применяем статистику\n",
    "        \n",
    "    pd_boot_data = pd.DataFrame(boot_data)\n",
    "        \n",
    "    left_quant = (1 - bootstrap_conf_level)/2\n",
    "    right_quant = 1 - (1 - bootstrap_conf_level) / 2\n",
    "    quants = pd_boot_data.quantile([left_quant, right_quant])\n",
    "        \n",
    "    p_1 = norm.cdf(\n",
    "        x = 0, \n",
    "        loc = np.mean(boot_data), \n",
    "        scale = np.std(boot_data)\n",
    "    )\n",
    "    p_2 = norm.cdf(\n",
    "        x = 0, \n",
    "        loc = -np.mean(boot_data), \n",
    "        scale = np.std(boot_data)\n",
    "    )\n",
    "    p_value = min(p_1, p_2) * 2\n",
    "        \n",
    "    # Визуализация\n",
    "    _, _, bars = plt.hist(pd_boot_data[0], bins = 50)\n",
    "    for bar in bars:\n",
    "        if abs(bar.get_x()) <= quants.iloc[0][0] or abs(bar.get_x()) >= quants.iloc[1][0]:\n",
    "            bar.set_facecolor('red')\n",
    "        else: \n",
    "            bar.set_facecolor('grey')\n",
    "            bar.set_edgecolor('black')\n",
    "    \n",
    "    plt.style.use('ggplot')\n",
    "    plt.vlines(quants,ymin=0,ymax=50,linestyle='--')\n",
    "    plt.xlabel('boot_data')\n",
    "    plt.ylabel('frequency')\n",
    "    plt.title(\"Histogram of boot_data\")\n",
    "    plt.show()\n",
    "       \n",
    "    return {\"boot_data\": boot_data, \n",
    "            \"quants\": quants, \n",
    "            \"p_value\": p_value}"
   ]
  },
  {
   "cell_type": "code",
   "execution_count": null,
   "metadata": {},
   "outputs": [],
   "source": [
    "np.random.seed(2)"
   ]
  },
  {
   "cell_type": "markdown",
   "metadata": {},
   "source": [
    "## Бакетирование ----\n",
    "Трансформация распределения случайной величины в нормальное с помощью техники бакетирования\n",
    "\n",
    "Бакетирование подходит тогда, когда необходимо:\n",
    "* сохранить информацию о дисперсии и среднем в выборке до трансформации\n",
    "* привести к нормальному распределению\n",
    "\n",
    "Сгенерируем данные. В качестве примера используется эксп. распределение\n",
    "\n",
    "Возьмем кратное количество групп. Допустим 5000 (можно взять и 200, и 500)"
   ]
  },
  {
   "cell_type": "code",
   "execution_count": null,
   "metadata": {},
   "outputs": [],
   "source": [
    "b_n = 5000\n",
    "n = 100000\n",
    "\n",
    "val_1 = np.random.exponential(scale=1/0.01, size=n)\n",
    "val_2 = np.random.exponential(scale=1/0.011, size=n)\n",
    "\n",
    "sample_exp = pd.DataFrame({\n",
    "    \"values\":   np.concatenate([val_1, val_2]),  \n",
    "    \"variant\":  [\"A\" for i in range(n)] + [\"B\" for i in range(n)],\n",
    "    \"backet\":   [i for i in range(b_n)] * int(n*2/b_n)\n",
    "})"
   ]
  },
  {
   "cell_type": "code",
   "execution_count": null,
   "metadata": {},
   "outputs": [],
   "source": [
    "sample_exp.head()"
   ]
  },
  {
   "cell_type": "code",
   "execution_count": null,
   "metadata": {},
   "outputs": [],
   "source": [
    "# Группируем по бакетам и считаем среднее:\n",
    "\n",
    "backeted_sample_exp = sample_exp.groupby(by=[\"backet\",\"variant\"])[\"values\"].agg(\n",
    "    mu=np.mean, \n",
    "    sd_mu=np.std\n",
    ").reset_index()"
   ]
  },
  {
   "cell_type": "code",
   "execution_count": null,
   "metadata": {},
   "outputs": [],
   "source": [
    "backeted_sample_exp.head()"
   ]
  },
  {
   "cell_type": "code",
   "execution_count": null,
   "metadata": {},
   "outputs": [],
   "source": [
    "# Сравним исходное выборочное среднее и среднее бакетных средних \n",
    "# Будет TRUE\n",
    "round(np.mean(sample_exp[\"values\"]),5) == round(np.mean(backeted_sample_exp[\"mu\"]),5)"
   ]
  },
  {
   "cell_type": "code",
   "execution_count": null,
   "metadata": {},
   "outputs": [],
   "source": [
    "# Проверим дисперсию. Отнормируем по кол-ву наблюдений\n",
    "np.var(sample_exp[\"values\"]) / len(sample_exp[\"values\"])"
   ]
  },
  {
   "cell_type": "code",
   "execution_count": null,
   "metadata": {},
   "outputs": [],
   "source": [
    "# Дисперсия будет почти такой же\n",
    "np.var(backeted_sample_exp[\"mu\"]) / len(backeted_sample_exp[\"mu\"])"
   ]
  },
  {
   "cell_type": "code",
   "execution_count": null,
   "metadata": {},
   "outputs": [],
   "source": [
    "# исходное распределение\n",
    "viz = sample_exp[\"values\"].plot(kind=\"hist\", color=\"grey\", figsize=(8,5), bins=50)\n",
    "viz.set_xlabel(\"values\")\n",
    "viz.set_ylabel(\"count\")"
   ]
  },
  {
   "cell_type": "code",
   "execution_count": null,
   "metadata": {},
   "outputs": [],
   "source": [
    "# Распределение после бакетного преобразования\n",
    "viz = backeted_sample_exp[\"mu\"].plot(kind=\"hist\", color=\"grey\", figsize=(8,5), bins=50)\n",
    "viz.set_xlabel(\"mu\")\n",
    "viz.set_ylabel(\"count\")"
   ]
  },
  {
   "cell_type": "code",
   "execution_count": null,
   "metadata": {},
   "outputs": [],
   "source": [
    "%%time\n",
    "# Сравним результаты для бутстрапа оригинального семпла и бакетного\n",
    "# оригинал\n",
    "original_booted_data = get_bootstrap(\n",
    "    sample_exp[sample_exp.variant==\"A\"][\"values\"],\n",
    "    sample_exp[sample_exp.variant==\"B\"][\"values\"]\n",
    ")"
   ]
  },
  {
   "cell_type": "code",
   "execution_count": null,
   "metadata": {},
   "outputs": [],
   "source": [
    "%%time\n",
    "\n",
    "# бакеты\n",
    "backeted_booted_data = get_bootstrap( \n",
    "    backeted_sample_exp[backeted_sample_exp.variant==\"A\"][\"mu\"],\n",
    "    backeted_sample_exp[backeted_sample_exp.variant==\"B\"][\"mu\"],\n",
    "  ) "
   ]
  },
  {
   "cell_type": "code",
   "execution_count": null,
   "metadata": {},
   "outputs": [],
   "source": [
    "# Сравним результаты\n",
    "# Дисперсия\n",
    "print(np.var(original_booted_data[\"boot_data\"]))\n",
    "print(np.var(backeted_booted_data[\"boot_data\"]))"
   ]
  },
  {
   "cell_type": "code",
   "execution_count": null,
   "metadata": {},
   "outputs": [],
   "source": [
    "# ДИ\n",
    "original_booted_data[\"quants\"]"
   ]
  },
  {
   "cell_type": "code",
   "execution_count": null,
   "metadata": {},
   "outputs": [],
   "source": [
    "backeted_booted_data[\"quants\"]"
   ]
  },
  {
   "cell_type": "code",
   "execution_count": null,
   "metadata": {},
   "outputs": [],
   "source": []
  },
  {
   "cell_type": "code",
   "execution_count": null,
   "metadata": {},
   "outputs": [],
   "source": []
  }
 ],
 "metadata": {
  "kernelspec": {
   "display_name": "Python 3",
   "language": "python",
   "name": "python3"
  },
  "language_info": {
   "codemirror_mode": {
    "name": "ipython",
    "version": 3
   },
   "file_extension": ".py",
   "mimetype": "text/x-python",
   "name": "python",
   "nbconvert_exporter": "python",
   "pygments_lexer": "ipython3",
   "version": "3.7.6"
  }
 },
 "nbformat": 4,
 "nbformat_minor": 4
}
